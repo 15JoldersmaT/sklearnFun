{
 "cells": [
  {
   "cell_type": "code",
   "execution_count": 107,
   "id": "f433bd2b",
   "metadata": {},
   "outputs": [
    {
     "name": "stdout",
     "output_type": "stream",
     "text": [
      "     Week        Team Win  pointYTD  ydsYTD  pYdsYTD  dYdsYTD  dRYdsYTD  \\\n",
      "0       2  Buccaneers   W        31     431      379      451        60   \n",
      "1       2   Cardinals   W        38     416      280      248        86   \n",
      "2       2      Chiefs   L        33     397      324      457       153   \n",
      "3       2      Ravens   W        27     406      217      491        82   \n",
      "4       2        Rams   W        34     386      312      322       134   \n",
      "..    ...         ...  ..       ...     ...      ...      ...       ...   \n",
      "503    18        Jets   L       283    4789     3240     5847      2042   \n",
      "504    18       Colts   L       258    4900     3230     5318      2050   \n",
      "505    18      Texans   L       255    4374     3016     6130      2294   \n",
      "506    18      Giants   L       251    4707     3113     5707      1967   \n",
      "507    18     Jaguars   W       227    4873     3219     5769      2033   \n",
      "\n",
      "     dPYdsYTD  Rank  \n",
      "0         391     1  \n",
      "1         162     2  \n",
      "2         304     3  \n",
      "3         409     4  \n",
      "4         188     5  \n",
      "..        ...   ...  \n",
      "503      3805    28  \n",
      "504      3268    29  \n",
      "505      3836    30  \n",
      "506      3740    31  \n",
      "507      3736    32  \n",
      "\n",
      "[508 rows x 10 columns]\n",
      "Accuracy: 0.5392156862745098\n"
     ]
    },
    {
     "data": {
      "image/png": "[encoded data removed]",
      "text/plain": [
       "<Figure size 1000x700 with 2 Axes>"
      ]
     },
     "metadata": {},
     "output_type": "display_data"
    },
    {
     "name": "stdout",
     "output_type": "stream",
     "text": [
      "[[23 33]\n",
      " [14 32]]\n",
      "['W']\n"
     ]
    }
   ],
   "source": [
    "#Exploring sports prediction\n",
    "#gathered the data from https://www.pro-football-reference.com/\n",
    "\n",
    "import pandas as pd\n",
    "import numpy as np\n",
    "# Importing necessary libraries\n",
    "from sklearn.model_selection import train_test_split\n",
    "from sklearn.tree import DecisionTreeClassifier, plot_tree\n",
    "import matplotlib.pyplot as plt\n",
    "from sklearn.ensemble import RandomForestClassifier\n",
    "from sklearn.metrics import confusion_matrix, ConfusionMatrixDisplay\n",
    "import seaborn as sns\n",
    "\n",
    "\n",
    "data = pd.read_csv('games2021.csv')\n",
    "data = data[data.Week != 1]\n",
    "print (data)\n",
    "FEATURE_NAMES = [['pointYTD','ydsYTD','dRYdsYTD']]\n",
    "\n",
    "x = data[['Week','pointYTD','ydsYTD','dRYdsYTD','dPYdsYTD','Rank']].values\n",
    "y = data['Win'].values\n",
    "\n",
    "# Splitting dataset into training set and test set\n",
    "X_train, X_test, y_train, y_test = train_test_split(x, y, test_size=0.2)\n",
    "# Creating Decision Tree classifier object\n",
    "clf = RandomForestClassifier(n_estimators=1000, max_depth=4)\n",
    "\n",
    "# Training Decision Tree classifier\n",
    "clf = clf.fit(X_train, y_train)\n",
    "\n",
    "# Predicting the response for test dataset\n",
    "y_pred = clf.predict(X_test)\n",
    "\n",
    "# Importing metrics for accuracy calculation\n",
    "from sklearn import metrics\n",
    "\n",
    "# Model Accuracy\n",
    "print(\"Accuracy:\", metrics.accuracy_score(y_test, y_pred))\n",
    "\n",
    "cm = confusion_matrix(y_test, y_pred)\n",
    "\n",
    "#TP TN\n",
    "#FP FN\n",
    "# create a seaborn heatmap for visualization\n",
    "plt.figure(figsize=(10, 7))\n",
    "sns.heatmap(cm, annot=True, fmt='d', cmap='Reds')\n",
    "plt.xlabel('Predicted')\n",
    "plt.ylabel('True')\n",
    "plt.show()\n",
    "print(cm)\n",
    "\n",
    "print (clf.predict([[2, 71, 881,308, 308,15 ]]))\n",
    "\n"
   ]
  },
  {
   "cell_type": "code",
   "execution_count": null,
   "id": "db5b4483",
   "metadata": {},
   "outputs": [],
   "source": []
  },
  {
   "cell_type": "code",
   "execution_count": null,
   "id": "c0d0cc78",
   "metadata": {},
   "outputs": [],
   "source": []
  },
  {
   "cell_type": "code",
   "execution_count": null,
   "id": "f2bd0f1f",
   "metadata": {},
   "outputs": [],
   "source": []
  }
 ],
 "metadata": {
  "kernelspec": {
   "display_name": "Python 3 (ipykernel)",
   "language": "python",
   "name": "python3"
  },
  "language_info": {
   "codemirror_mode": {
    "name": "ipython",
    "version": 3
   },
   "file_extension": ".py",
   "mimetype": "text/x-python",
   "name": "python",
   "nbconvert_exporter": "python",
   "pygments_lexer": "ipython3",
   "version": "3.10.9"
  }
 },
 "nbformat": 4,
 "nbformat_minor": 5
}
